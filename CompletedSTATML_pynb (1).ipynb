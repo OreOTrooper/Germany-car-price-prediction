{
  "nbformat": 4,
  "nbformat_minor": 0,
  "metadata": {
    "colab": {
      "provenance": []
    },
    "kernelspec": {
      "name": "python3",
      "display_name": "Python 3"
    },
    "language_info": {
      "name": "python"
    }
  },
  "cells": [
    {
      "cell_type": "code",
      "execution_count": 29,
      "metadata": {
        "id": "Z6Qdif_8iWZ9"
      },
      "outputs": [],
      "source": [
        "import pandas as pd"
      ]
    },
    {
      "cell_type": "code",
      "source": [
        "import numpy as np"
      ],
      "metadata": {
        "id": "fWrwGSisi2GK"
      },
      "execution_count": 30,
      "outputs": []
    },
    {
      "cell_type": "code",
      "source": [
        "df=pd.read_csv(r'/content/Car Selling Price.csv')\n",
        "df"
      ],
      "metadata": {
        "colab": {
          "base_uri": "https://localhost:8080/",
          "height": 424
        },
        "id": "pXWUhdCMi61R",
        "outputId": "8605a20e-7c83-4dd3-80f7-b1b0b627d71c"
      },
      "execution_count": 31,
      "outputs": [
        {
          "output_type": "execute_result",
          "data": {
            "text/plain": [
              "                             Brand  Year    Fuel Transmission   Engine  \\\n",
              "0           Maruti Swift Dzire VDI  2014  Diesel       Manual  1248 CC   \n",
              "1     Skoda Rapid 1.5 TDI Ambition  2014  Diesel       Manual  1498 CC   \n",
              "2         Honda City 2017-2020 EXi  2006  Petrol       Manual  1497 CC   \n",
              "3        Hyundai i20 Sportz Diesel  2010  Diesel       Manual  1396 CC   \n",
              "4           Maruti Swift VXI BSIII  2007  Petrol       Manual  1298 CC   \n",
              "...                            ...   ...     ...          ...      ...   \n",
              "8123             Hyundai i20 Magna  2013  Petrol       Manual  1197 CC   \n",
              "8124         Hyundai Verna CRDi SX  2007  Diesel       Manual  1493 CC   \n",
              "8125        Maruti Swift Dzire ZDi  2009  Diesel       Manual  1248 CC   \n",
              "8126               Tata Indigo CR4  2013  Diesel       Manual  1396 CC   \n",
              "8127               Tata Indigo CR4  2013  Diesel       Manual  1396 CC   \n",
              "\n",
              "       Max_Power                     Torque  Seats     Mileage  KM_Driven  \\\n",
              "0         74 bhp             190Nm@ 2000rpm    5.0   23.4 kmpl     145500   \n",
              "1     103.52 bhp        250Nm@ 1500-2500rpm    5.0  21.14 kmpl     120000   \n",
              "2         78 bhp      12.7@ 2,700(kgm@ rpm)    5.0   17.7 kmpl     140000   \n",
              "3         90 bhp   22.4 kgm at 1750-2750rpm    5.0   23.0 kmpl     127000   \n",
              "4       88.2 bhp      11.5@ 4,500(kgm@ rpm)    5.0   16.1 kmpl     120000   \n",
              "...          ...                        ...    ...         ...        ...   \n",
              "8123   82.85 bhp           113.7Nm@ 4000rpm    5.0   18.5 kmpl     110000   \n",
              "8124     110 bhp  24@ 1,900-2,750(kgm@ rpm)    5.0   16.8 kmpl     119000   \n",
              "8125    73.9 bhp             190Nm@ 2000rpm    5.0   19.3 kmpl     120000   \n",
              "8126      70 bhp        140Nm@ 1800-3000rpm    5.0  23.57 kmpl      25000   \n",
              "8127      70 bhp        140Nm@ 1800-3000rpm    5.0  23.57 kmpl      25000   \n",
              "\n",
              "                     Owner Seller_Type  Selling_Price  \n",
              "0              First Owner  Individual         450000  \n",
              "1             Second Owner  Individual         370000  \n",
              "2              Third Owner  Individual         158000  \n",
              "3              First Owner  Individual         225000  \n",
              "4              First Owner  Individual         130000  \n",
              "...                    ...         ...            ...  \n",
              "8123           First Owner  Individual         320000  \n",
              "8124  Fourth & Above Owner  Individual         135000  \n",
              "8125           First Owner  Individual         382000  \n",
              "8126           First Owner  Individual         290000  \n",
              "8127           First Owner  Individual         290000  \n",
              "\n",
              "[8128 rows x 13 columns]"
            ],
            "text/html": [
              "\n",
              "  <div id=\"df-c07e261f-8648-4444-a13a-edea92639ab0\">\n",
              "    <div class=\"colab-df-container\">\n",
              "      <div>\n",
              "<style scoped>\n",
              "    .dataframe tbody tr th:only-of-type {\n",
              "        vertical-align: middle;\n",
              "    }\n",
              "\n",
              "    .dataframe tbody tr th {\n",
              "        vertical-align: top;\n",
              "    }\n",
              "\n",
              "    .dataframe thead th {\n",
              "        text-align: right;\n",
              "    }\n",
              "</style>\n",
              "<table border=\"1\" class=\"dataframe\">\n",
              "  <thead>\n",
              "    <tr style=\"text-align: right;\">\n",
              "      <th></th>\n",
              "      <th>Brand</th>\n",
              "      <th>Year</th>\n",
              "      <th>Fuel</th>\n",
              "      <th>Transmission</th>\n",
              "      <th>Engine</th>\n",
              "      <th>Max_Power</th>\n",
              "      <th>Torque</th>\n",
              "      <th>Seats</th>\n",
              "      <th>Mileage</th>\n",
              "      <th>KM_Driven</th>\n",
              "      <th>Owner</th>\n",
              "      <th>Seller_Type</th>\n",
              "      <th>Selling_Price</th>\n",
              "    </tr>\n",
              "  </thead>\n",
              "  <tbody>\n",
              "    <tr>\n",
              "      <th>0</th>\n",
              "      <td>Maruti Swift Dzire VDI</td>\n",
              "      <td>2014</td>\n",
              "      <td>Diesel</td>\n",
              "      <td>Manual</td>\n",
              "      <td>1248 CC</td>\n",
              "      <td>74 bhp</td>\n",
              "      <td>190Nm@ 2000rpm</td>\n",
              "      <td>5.0</td>\n",
              "      <td>23.4 kmpl</td>\n",
              "      <td>145500</td>\n",
              "      <td>First Owner</td>\n",
              "      <td>Individual</td>\n",
              "      <td>450000</td>\n",
              "    </tr>\n",
              "    <tr>\n",
              "      <th>1</th>\n",
              "      <td>Skoda Rapid 1.5 TDI Ambition</td>\n",
              "      <td>2014</td>\n",
              "      <td>Diesel</td>\n",
              "      <td>Manual</td>\n",
              "      <td>1498 CC</td>\n",
              "      <td>103.52 bhp</td>\n",
              "      <td>250Nm@ 1500-2500rpm</td>\n",
              "      <td>5.0</td>\n",
              "      <td>21.14 kmpl</td>\n",
              "      <td>120000</td>\n",
              "      <td>Second Owner</td>\n",
              "      <td>Individual</td>\n",
              "      <td>370000</td>\n",
              "    </tr>\n",
              "    <tr>\n",
              "      <th>2</th>\n",
              "      <td>Honda City 2017-2020 EXi</td>\n",
              "      <td>2006</td>\n",
              "      <td>Petrol</td>\n",
              "      <td>Manual</td>\n",
              "      <td>1497 CC</td>\n",
              "      <td>78 bhp</td>\n",
              "      <td>12.7@ 2,700(kgm@ rpm)</td>\n",
              "      <td>5.0</td>\n",
              "      <td>17.7 kmpl</td>\n",
              "      <td>140000</td>\n",
              "      <td>Third Owner</td>\n",
              "      <td>Individual</td>\n",
              "      <td>158000</td>\n",
              "    </tr>\n",
              "    <tr>\n",
              "      <th>3</th>\n",
              "      <td>Hyundai i20 Sportz Diesel</td>\n",
              "      <td>2010</td>\n",
              "      <td>Diesel</td>\n",
              "      <td>Manual</td>\n",
              "      <td>1396 CC</td>\n",
              "      <td>90 bhp</td>\n",
              "      <td>22.4 kgm at 1750-2750rpm</td>\n",
              "      <td>5.0</td>\n",
              "      <td>23.0 kmpl</td>\n",
              "      <td>127000</td>\n",
              "      <td>First Owner</td>\n",
              "      <td>Individual</td>\n",
              "      <td>225000</td>\n",
              "    </tr>\n",
              "    <tr>\n",
              "      <th>4</th>\n",
              "      <td>Maruti Swift VXI BSIII</td>\n",
              "      <td>2007</td>\n",
              "      <td>Petrol</td>\n",
              "      <td>Manual</td>\n",
              "      <td>1298 CC</td>\n",
              "      <td>88.2 bhp</td>\n",
              "      <td>11.5@ 4,500(kgm@ rpm)</td>\n",
              "      <td>5.0</td>\n",
              "      <td>16.1 kmpl</td>\n",
              "      <td>120000</td>\n",
              "      <td>First Owner</td>\n",
              "      <td>Individual</td>\n",
              "      <td>130000</td>\n",
              "    </tr>\n",
              "    <tr>\n",
              "      <th>...</th>\n",
              "      <td>...</td>\n",
              "      <td>...</td>\n",
              "      <td>...</td>\n",
              "      <td>...</td>\n",
              "      <td>...</td>\n",
              "      <td>...</td>\n",
              "      <td>...</td>\n",
              "      <td>...</td>\n",
              "      <td>...</td>\n",
              "      <td>...</td>\n",
              "      <td>...</td>\n",
              "      <td>...</td>\n",
              "      <td>...</td>\n",
              "    </tr>\n",
              "    <tr>\n",
              "      <th>8123</th>\n",
              "      <td>Hyundai i20 Magna</td>\n",
              "      <td>2013</td>\n",
              "      <td>Petrol</td>\n",
              "      <td>Manual</td>\n",
              "      <td>1197 CC</td>\n",
              "      <td>82.85 bhp</td>\n",
              "      <td>113.7Nm@ 4000rpm</td>\n",
              "      <td>5.0</td>\n",
              "      <td>18.5 kmpl</td>\n",
              "      <td>110000</td>\n",
              "      <td>First Owner</td>\n",
              "      <td>Individual</td>\n",
              "      <td>320000</td>\n",
              "    </tr>\n",
              "    <tr>\n",
              "      <th>8124</th>\n",
              "      <td>Hyundai Verna CRDi SX</td>\n",
              "      <td>2007</td>\n",
              "      <td>Diesel</td>\n",
              "      <td>Manual</td>\n",
              "      <td>1493 CC</td>\n",
              "      <td>110 bhp</td>\n",
              "      <td>24@ 1,900-2,750(kgm@ rpm)</td>\n",
              "      <td>5.0</td>\n",
              "      <td>16.8 kmpl</td>\n",
              "      <td>119000</td>\n",
              "      <td>Fourth &amp; Above Owner</td>\n",
              "      <td>Individual</td>\n",
              "      <td>135000</td>\n",
              "    </tr>\n",
              "    <tr>\n",
              "      <th>8125</th>\n",
              "      <td>Maruti Swift Dzire ZDi</td>\n",
              "      <td>2009</td>\n",
              "      <td>Diesel</td>\n",
              "      <td>Manual</td>\n",
              "      <td>1248 CC</td>\n",
              "      <td>73.9 bhp</td>\n",
              "      <td>190Nm@ 2000rpm</td>\n",
              "      <td>5.0</td>\n",
              "      <td>19.3 kmpl</td>\n",
              "      <td>120000</td>\n",
              "      <td>First Owner</td>\n",
              "      <td>Individual</td>\n",
              "      <td>382000</td>\n",
              "    </tr>\n",
              "    <tr>\n",
              "      <th>8126</th>\n",
              "      <td>Tata Indigo CR4</td>\n",
              "      <td>2013</td>\n",
              "      <td>Diesel</td>\n",
              "      <td>Manual</td>\n",
              "      <td>1396 CC</td>\n",
              "      <td>70 bhp</td>\n",
              "      <td>140Nm@ 1800-3000rpm</td>\n",
              "      <td>5.0</td>\n",
              "      <td>23.57 kmpl</td>\n",
              "      <td>25000</td>\n",
              "      <td>First Owner</td>\n",
              "      <td>Individual</td>\n",
              "      <td>290000</td>\n",
              "    </tr>\n",
              "    <tr>\n",
              "      <th>8127</th>\n",
              "      <td>Tata Indigo CR4</td>\n",
              "      <td>2013</td>\n",
              "      <td>Diesel</td>\n",
              "      <td>Manual</td>\n",
              "      <td>1396 CC</td>\n",
              "      <td>70 bhp</td>\n",
              "      <td>140Nm@ 1800-3000rpm</td>\n",
              "      <td>5.0</td>\n",
              "      <td>23.57 kmpl</td>\n",
              "      <td>25000</td>\n",
              "      <td>First Owner</td>\n",
              "      <td>Individual</td>\n",
              "      <td>290000</td>\n",
              "    </tr>\n",
              "  </tbody>\n",
              "</table>\n",
              "<p>8128 rows × 13 columns</p>\n",
              "</div>\n",
              "      <button class=\"colab-df-convert\" onclick=\"convertToInteractive('df-c07e261f-8648-4444-a13a-edea92639ab0')\"\n",
              "              title=\"Convert this dataframe to an interactive table.\"\n",
              "              style=\"display:none;\">\n",
              "        \n",
              "  <svg xmlns=\"http://www.w3.org/2000/svg\" height=\"24px\"viewBox=\"0 0 24 24\"\n",
              "       width=\"24px\">\n",
              "    <path d=\"M0 0h24v24H0V0z\" fill=\"none\"/>\n",
              "    <path d=\"M18.56 5.44l.94 2.06.94-2.06 2.06-.94-2.06-.94-.94-2.06-.94 2.06-2.06.94zm-11 1L8.5 8.5l.94-2.06 2.06-.94-2.06-.94L8.5 2.5l-.94 2.06-2.06.94zm10 10l.94 2.06.94-2.06 2.06-.94-2.06-.94-.94-2.06-.94 2.06-2.06.94z\"/><path d=\"M17.41 7.96l-1.37-1.37c-.4-.4-.92-.59-1.43-.59-.52 0-1.04.2-1.43.59L10.3 9.45l-7.72 7.72c-.78.78-.78 2.05 0 2.83L4 21.41c.39.39.9.59 1.41.59.51 0 1.02-.2 1.41-.59l7.78-7.78 2.81-2.81c.8-.78.8-2.07 0-2.86zM5.41 20L4 18.59l7.72-7.72 1.47 1.35L5.41 20z\"/>\n",
              "  </svg>\n",
              "      </button>\n",
              "      \n",
              "  <style>\n",
              "    .colab-df-container {\n",
              "      display:flex;\n",
              "      flex-wrap:wrap;\n",
              "      gap: 12px;\n",
              "    }\n",
              "\n",
              "    .colab-df-convert {\n",
              "      background-color: #E8F0FE;\n",
              "      border: none;\n",
              "      border-radius: 50%;\n",
              "      cursor: pointer;\n",
              "      display: none;\n",
              "      fill: #1967D2;\n",
              "      height: 32px;\n",
              "      padding: 0 0 0 0;\n",
              "      width: 32px;\n",
              "    }\n",
              "\n",
              "    .colab-df-convert:hover {\n",
              "      background-color: #E2EBFA;\n",
              "      box-shadow: 0px 1px 2px rgba(60, 64, 67, 0.3), 0px 1px 3px 1px rgba(60, 64, 67, 0.15);\n",
              "      fill: #174EA6;\n",
              "    }\n",
              "\n",
              "    [theme=dark] .colab-df-convert {\n",
              "      background-color: #3B4455;\n",
              "      fill: #D2E3FC;\n",
              "    }\n",
              "\n",
              "    [theme=dark] .colab-df-convert:hover {\n",
              "      background-color: #434B5C;\n",
              "      box-shadow: 0px 1px 3px 1px rgba(0, 0, 0, 0.15);\n",
              "      filter: drop-shadow(0px 1px 2px rgba(0, 0, 0, 0.3));\n",
              "      fill: #FFFFFF;\n",
              "    }\n",
              "  </style>\n",
              "\n",
              "      <script>\n",
              "        const buttonEl =\n",
              "          document.querySelector('#df-c07e261f-8648-4444-a13a-edea92639ab0 button.colab-df-convert');\n",
              "        buttonEl.style.display =\n",
              "          google.colab.kernel.accessAllowed ? 'block' : 'none';\n",
              "\n",
              "        async function convertToInteractive(key) {\n",
              "          const element = document.querySelector('#df-c07e261f-8648-4444-a13a-edea92639ab0');\n",
              "          const dataTable =\n",
              "            await google.colab.kernel.invokeFunction('convertToInteractive',\n",
              "                                                     [key], {});\n",
              "          if (!dataTable) return;\n",
              "\n",
              "          const docLinkHtml = 'Like what you see? Visit the ' +\n",
              "            '<a target=\"_blank\" href=https://colab.research.google.com/notebooks/data_table.ipynb>data table notebook</a>'\n",
              "            + ' to learn more about interactive tables.';\n",
              "          element.innerHTML = '';\n",
              "          dataTable['output_type'] = 'display_data';\n",
              "          await google.colab.output.renderOutput(dataTable, element);\n",
              "          const docLink = document.createElement('div');\n",
              "          docLink.innerHTML = docLinkHtml;\n",
              "          element.appendChild(docLink);\n",
              "        }\n",
              "      </script>\n",
              "    </div>\n",
              "  </div>\n",
              "  "
            ]
          },
          "metadata": {},
          "execution_count": 31
        }
      ]
    },
    {
      "cell_type": "code",
      "source": [
        "from google.colab import drive\n",
        "drive.mount('/content/drive')"
      ],
      "metadata": {
        "colab": {
          "base_uri": "https://localhost:8080/"
        },
        "id": "lUH5UPVSVFZQ",
        "outputId": "b39a0eb7-e498-45d4-fb8e-bd191a33311c"
      },
      "execution_count": 32,
      "outputs": [
        {
          "output_type": "stream",
          "name": "stdout",
          "text": [
            "Drive already mounted at /content/drive; to attempt to forcibly remount, call drive.mount(\"/content/drive\", force_remount=True).\n"
          ]
        }
      ]
    },
    {
      "cell_type": "code",
      "source": [
        "df.describe()"
      ],
      "metadata": {
        "id": "iRCnBqKOjapj",
        "colab": {
          "base_uri": "https://localhost:8080/",
          "height": 300
        },
        "outputId": "b74b20b1-06eb-4a59-bf39-2c69e2fb0fe6"
      },
      "execution_count": 33,
      "outputs": [
        {
          "output_type": "execute_result",
          "data": {
            "text/plain": [
              "              Year        Seats     KM_Driven  Selling_Price\n",
              "count  8128.000000  7907.000000  8.128000e+03   8.128000e+03\n",
              "mean   2013.804011     5.416719  6.981951e+04   6.382718e+05\n",
              "std       4.044249     0.959588  5.655055e+04   8.062534e+05\n",
              "min    1983.000000     2.000000  1.000000e+00   2.999900e+04\n",
              "25%    2011.000000     5.000000  3.500000e+04   2.549990e+05\n",
              "50%    2015.000000     5.000000  6.000000e+04   4.500000e+05\n",
              "75%    2017.000000     5.000000  9.800000e+04   6.750000e+05\n",
              "max    2020.000000    14.000000  2.360457e+06   1.000000e+07"
            ],
            "text/html": [
              "\n",
              "  <div id=\"df-d72e7da5-869b-42e2-a8a1-0e7a7c811d79\">\n",
              "    <div class=\"colab-df-container\">\n",
              "      <div>\n",
              "<style scoped>\n",
              "    .dataframe tbody tr th:only-of-type {\n",
              "        vertical-align: middle;\n",
              "    }\n",
              "\n",
              "    .dataframe tbody tr th {\n",
              "        vertical-align: top;\n",
              "    }\n",
              "\n",
              "    .dataframe thead th {\n",
              "        text-align: right;\n",
              "    }\n",
              "</style>\n",
              "<table border=\"1\" class=\"dataframe\">\n",
              "  <thead>\n",
              "    <tr style=\"text-align: right;\">\n",
              "      <th></th>\n",
              "      <th>Year</th>\n",
              "      <th>Seats</th>\n",
              "      <th>KM_Driven</th>\n",
              "      <th>Selling_Price</th>\n",
              "    </tr>\n",
              "  </thead>\n",
              "  <tbody>\n",
              "    <tr>\n",
              "      <th>count</th>\n",
              "      <td>8128.000000</td>\n",
              "      <td>7907.000000</td>\n",
              "      <td>8.128000e+03</td>\n",
              "      <td>8.128000e+03</td>\n",
              "    </tr>\n",
              "    <tr>\n",
              "      <th>mean</th>\n",
              "      <td>2013.804011</td>\n",
              "      <td>5.416719</td>\n",
              "      <td>6.981951e+04</td>\n",
              "      <td>6.382718e+05</td>\n",
              "    </tr>\n",
              "    <tr>\n",
              "      <th>std</th>\n",
              "      <td>4.044249</td>\n",
              "      <td>0.959588</td>\n",
              "      <td>5.655055e+04</td>\n",
              "      <td>8.062534e+05</td>\n",
              "    </tr>\n",
              "    <tr>\n",
              "      <th>min</th>\n",
              "      <td>1983.000000</td>\n",
              "      <td>2.000000</td>\n",
              "      <td>1.000000e+00</td>\n",
              "      <td>2.999900e+04</td>\n",
              "    </tr>\n",
              "    <tr>\n",
              "      <th>25%</th>\n",
              "      <td>2011.000000</td>\n",
              "      <td>5.000000</td>\n",
              "      <td>3.500000e+04</td>\n",
              "      <td>2.549990e+05</td>\n",
              "    </tr>\n",
              "    <tr>\n",
              "      <th>50%</th>\n",
              "      <td>2015.000000</td>\n",
              "      <td>5.000000</td>\n",
              "      <td>6.000000e+04</td>\n",
              "      <td>4.500000e+05</td>\n",
              "    </tr>\n",
              "    <tr>\n",
              "      <th>75%</th>\n",
              "      <td>2017.000000</td>\n",
              "      <td>5.000000</td>\n",
              "      <td>9.800000e+04</td>\n",
              "      <td>6.750000e+05</td>\n",
              "    </tr>\n",
              "    <tr>\n",
              "      <th>max</th>\n",
              "      <td>2020.000000</td>\n",
              "      <td>14.000000</td>\n",
              "      <td>2.360457e+06</td>\n",
              "      <td>1.000000e+07</td>\n",
              "    </tr>\n",
              "  </tbody>\n",
              "</table>\n",
              "</div>\n",
              "      <button class=\"colab-df-convert\" onclick=\"convertToInteractive('df-d72e7da5-869b-42e2-a8a1-0e7a7c811d79')\"\n",
              "              title=\"Convert this dataframe to an interactive table.\"\n",
              "              style=\"display:none;\">\n",
              "        \n",
              "  <svg xmlns=\"http://www.w3.org/2000/svg\" height=\"24px\"viewBox=\"0 0 24 24\"\n",
              "       width=\"24px\">\n",
              "    <path d=\"M0 0h24v24H0V0z\" fill=\"none\"/>\n",
              "    <path d=\"M18.56 5.44l.94 2.06.94-2.06 2.06-.94-2.06-.94-.94-2.06-.94 2.06-2.06.94zm-11 1L8.5 8.5l.94-2.06 2.06-.94-2.06-.94L8.5 2.5l-.94 2.06-2.06.94zm10 10l.94 2.06.94-2.06 2.06-.94-2.06-.94-.94-2.06-.94 2.06-2.06.94z\"/><path d=\"M17.41 7.96l-1.37-1.37c-.4-.4-.92-.59-1.43-.59-.52 0-1.04.2-1.43.59L10.3 9.45l-7.72 7.72c-.78.78-.78 2.05 0 2.83L4 21.41c.39.39.9.59 1.41.59.51 0 1.02-.2 1.41-.59l7.78-7.78 2.81-2.81c.8-.78.8-2.07 0-2.86zM5.41 20L4 18.59l7.72-7.72 1.47 1.35L5.41 20z\"/>\n",
              "  </svg>\n",
              "      </button>\n",
              "      \n",
              "  <style>\n",
              "    .colab-df-container {\n",
              "      display:flex;\n",
              "      flex-wrap:wrap;\n",
              "      gap: 12px;\n",
              "    }\n",
              "\n",
              "    .colab-df-convert {\n",
              "      background-color: #E8F0FE;\n",
              "      border: none;\n",
              "      border-radius: 50%;\n",
              "      cursor: pointer;\n",
              "      display: none;\n",
              "      fill: #1967D2;\n",
              "      height: 32px;\n",
              "      padding: 0 0 0 0;\n",
              "      width: 32px;\n",
              "    }\n",
              "\n",
              "    .colab-df-convert:hover {\n",
              "      background-color: #E2EBFA;\n",
              "      box-shadow: 0px 1px 2px rgba(60, 64, 67, 0.3), 0px 1px 3px 1px rgba(60, 64, 67, 0.15);\n",
              "      fill: #174EA6;\n",
              "    }\n",
              "\n",
              "    [theme=dark] .colab-df-convert {\n",
              "      background-color: #3B4455;\n",
              "      fill: #D2E3FC;\n",
              "    }\n",
              "\n",
              "    [theme=dark] .colab-df-convert:hover {\n",
              "      background-color: #434B5C;\n",
              "      box-shadow: 0px 1px 3px 1px rgba(0, 0, 0, 0.15);\n",
              "      filter: drop-shadow(0px 1px 2px rgba(0, 0, 0, 0.3));\n",
              "      fill: #FFFFFF;\n",
              "    }\n",
              "  </style>\n",
              "\n",
              "      <script>\n",
              "        const buttonEl =\n",
              "          document.querySelector('#df-d72e7da5-869b-42e2-a8a1-0e7a7c811d79 button.colab-df-convert');\n",
              "        buttonEl.style.display =\n",
              "          google.colab.kernel.accessAllowed ? 'block' : 'none';\n",
              "\n",
              "        async function convertToInteractive(key) {\n",
              "          const element = document.querySelector('#df-d72e7da5-869b-42e2-a8a1-0e7a7c811d79');\n",
              "          const dataTable =\n",
              "            await google.colab.kernel.invokeFunction('convertToInteractive',\n",
              "                                                     [key], {});\n",
              "          if (!dataTable) return;\n",
              "\n",
              "          const docLinkHtml = 'Like what you see? Visit the ' +\n",
              "            '<a target=\"_blank\" href=https://colab.research.google.com/notebooks/data_table.ipynb>data table notebook</a>'\n",
              "            + ' to learn more about interactive tables.';\n",
              "          element.innerHTML = '';\n",
              "          dataTable['output_type'] = 'display_data';\n",
              "          await google.colab.output.renderOutput(dataTable, element);\n",
              "          const docLink = document.createElement('div');\n",
              "          docLink.innerHTML = docLinkHtml;\n",
              "          element.appendChild(docLink);\n",
              "        }\n",
              "      </script>\n",
              "    </div>\n",
              "  </div>\n",
              "  "
            ]
          },
          "metadata": {},
          "execution_count": 33
        }
      ]
    },
    {
      "cell_type": "code",
      "source": [
        "df[['Brand']].value_counts()"
      ],
      "metadata": {
        "id": "ilMWkzgmjftO",
        "colab": {
          "base_uri": "https://localhost:8080/"
        },
        "outputId": "81247aaf-540f-4bb2-beba-1097fd592894"
      },
      "execution_count": 34,
      "outputs": [
        {
          "output_type": "execute_result",
          "data": {
            "text/plain": [
              "Brand                                  \n",
              "Maruti Swift Dzire VDI                     129\n",
              "Maruti Alto 800 LXI                         82\n",
              "Maruti Alto LXi                             71\n",
              "BMW X4 M Sport X xDrive20d                  62\n",
              "Maruti Swift VDI                            61\n",
              "                                          ... \n",
              "Mahindra Scorpio VLX 2WD AIRBAG SE BSIV      1\n",
              "Mahindra Scorpio VLX 2WD AT BSIII            1\n",
              "Mahindra Scorpio VLX 4WD AIRBAG AT BSIV      1\n",
              "Mahindra Scorpio VLX 4WD AIRBAG BSIV         1\n",
              "Volvo XC90 T8 Excellence BSIV                1\n",
              "Length: 2058, dtype: int64"
            ]
          },
          "metadata": {},
          "execution_count": 34
        }
      ]
    },
    {
      "cell_type": "code",
      "source": [
        "df[['Fuel']].value_counts()"
      ],
      "metadata": {
        "id": "1cuUumMsjv0d",
        "colab": {
          "base_uri": "https://localhost:8080/"
        },
        "outputId": "be710e20-bbe6-4034-ae27-0da55d143bae"
      },
      "execution_count": 35,
      "outputs": [
        {
          "output_type": "execute_result",
          "data": {
            "text/plain": [
              "Fuel  \n",
              "Diesel    4402\n",
              "Petrol    3631\n",
              "CNG         57\n",
              "LPG         38\n",
              "dtype: int64"
            ]
          },
          "metadata": {},
          "execution_count": 35
        }
      ]
    },
    {
      "cell_type": "code",
      "source": [
        "df[['Transmission']].value_counts()"
      ],
      "metadata": {
        "id": "rdZcfo8ukG4z",
        "colab": {
          "base_uri": "https://localhost:8080/"
        },
        "outputId": "87549c3a-bfda-40d2-fc7f-e01b5f0a265b"
      },
      "execution_count": 36,
      "outputs": [
        {
          "output_type": "execute_result",
          "data": {
            "text/plain": [
              "Transmission\n",
              "Manual          7078\n",
              "Automatic       1050\n",
              "dtype: int64"
            ]
          },
          "metadata": {},
          "execution_count": 36
        }
      ]
    },
    {
      "cell_type": "code",
      "source": [
        "df[['Seats']].value_counts()"
      ],
      "metadata": {
        "id": "GbINHBzgkgg0",
        "colab": {
          "base_uri": "https://localhost:8080/"
        },
        "outputId": "ea7a6953-84e6-49dd-bc3f-00ba24d3472d"
      },
      "execution_count": 37,
      "outputs": [
        {
          "output_type": "execute_result",
          "data": {
            "text/plain": [
              "Seats\n",
              "5.0      6254\n",
              "7.0      1120\n",
              "8.0       236\n",
              "4.0       133\n",
              "9.0        80\n",
              "6.0        62\n",
              "10.0       19\n",
              "2.0         2\n",
              "14.0        1\n",
              "dtype: int64"
            ]
          },
          "metadata": {},
          "execution_count": 37
        }
      ]
    },
    {
      "cell_type": "code",
      "source": [
        "df[['Owner']].value_counts()"
      ],
      "metadata": {
        "id": "gM-hupI6kpLL",
        "colab": {
          "base_uri": "https://localhost:8080/"
        },
        "outputId": "b5ed32e1-f785-47bb-810e-e2e61ef4aa45"
      },
      "execution_count": 38,
      "outputs": [
        {
          "output_type": "execute_result",
          "data": {
            "text/plain": [
              "Owner               \n",
              "First Owner             5289\n",
              "Second Owner            2105\n",
              "Third Owner              555\n",
              "Fourth & Above Owner     174\n",
              "Test Drive Car             5\n",
              "dtype: int64"
            ]
          },
          "metadata": {},
          "execution_count": 38
        }
      ]
    },
    {
      "cell_type": "code",
      "source": [
        "df.columns"
      ],
      "metadata": {
        "id": "GBFgooK2kwbn",
        "colab": {
          "base_uri": "https://localhost:8080/"
        },
        "outputId": "ebdb8db0-2b86-4a40-cbdd-fa1676420635"
      },
      "execution_count": 39,
      "outputs": [
        {
          "output_type": "execute_result",
          "data": {
            "text/plain": [
              "Index(['Brand', 'Year', 'Fuel', 'Transmission', 'Engine', 'Max_Power',\n",
              "       'Torque', 'Seats', 'Mileage', 'KM_Driven', 'Owner', 'Seller_Type',\n",
              "       'Selling_Price'],\n",
              "      dtype='object')"
            ]
          },
          "metadata": {},
          "execution_count": 39
        }
      ]
    },
    {
      "cell_type": "code",
      "source": [
        "df.shape"
      ],
      "metadata": {
        "id": "lESYGHQik3FA",
        "colab": {
          "base_uri": "https://localhost:8080/"
        },
        "outputId": "de7fd74b-29d3-4f77-b3ac-6f38e5395b28"
      },
      "execution_count": 40,
      "outputs": [
        {
          "output_type": "execute_result",
          "data": {
            "text/plain": [
              "(8128, 13)"
            ]
          },
          "metadata": {},
          "execution_count": 40
        }
      ]
    },
    {
      "cell_type": "code",
      "source": [
        "df.replace({'Fuel':{'Petrol':0,'Diesel':1,'CNG':2,'LPG':3}},inplace=True)"
      ],
      "metadata": {
        "id": "Lza_o8Iak7Sd"
      },
      "execution_count": 41,
      "outputs": []
    },
    {
      "cell_type": "code",
      "source": [
        "df.replace({'Seller_Type':{'Individual':0,'Dealer':1,'Trustmark Dealer':2}},inplace=True)"
      ],
      "metadata": {
        "id": "6oygA7Nqlvpg"
      },
      "execution_count": 42,
      "outputs": []
    },
    {
      "cell_type": "code",
      "source": [
        "df.replace({'Transmission':{'Manual':0,'Automatic':1}},inplace=True)"
      ],
      "metadata": {
        "id": "7uIfbImemVor"
      },
      "execution_count": 43,
      "outputs": []
    },
    {
      "cell_type": "code",
      "source": [
        "df.replace({'Owner':{'First Owner':0,'Second Owner':1,'Third Owner':2,'Fourth & Above Owner':3,'Test Drive Car':4}},inplace=True)"
      ],
      "metadata": {
        "id": "oPCwn6ZXmmW4"
      },
      "execution_count": 44,
      "outputs": []
    },
    {
      "cell_type": "code",
      "source": [
        "y=df['Selling_Price']"
      ],
      "metadata": {
        "id": "tb5s8tb4m-bC"
      },
      "execution_count": 45,
      "outputs": []
    },
    {
      "cell_type": "code",
      "source": [
        "y.shape"
      ],
      "metadata": {
        "id": "SuZ9RVIVnJOJ",
        "colab": {
          "base_uri": "https://localhost:8080/"
        },
        "outputId": "1a58159c-66a3-4eb9-c1f2-bb5f7525c7cc"
      },
      "execution_count": 46,
      "outputs": [
        {
          "output_type": "execute_result",
          "data": {
            "text/plain": [
              "(8128,)"
            ]
          },
          "metadata": {},
          "execution_count": 46
        }
      ]
    },
    {
      "cell_type": "code",
      "source": [
        "y"
      ],
      "metadata": {
        "id": "ikO_nOUznPP9",
        "colab": {
          "base_uri": "https://localhost:8080/"
        },
        "outputId": "b57b0af0-e035-4340-d160-819c258a4390"
      },
      "execution_count": 47,
      "outputs": [
        {
          "output_type": "execute_result",
          "data": {
            "text/plain": [
              "0       450000\n",
              "1       370000\n",
              "2       158000\n",
              "3       225000\n",
              "4       130000\n",
              "         ...  \n",
              "8123    320000\n",
              "8124    135000\n",
              "8125    382000\n",
              "8126    290000\n",
              "8127    290000\n",
              "Name: Selling_Price, Length: 8128, dtype: int64"
            ]
          },
          "metadata": {},
          "execution_count": 47
        }
      ]
    },
    {
      "cell_type": "code",
      "source": [
        "X=df[['Year','KM_Driven','Fuel','Seller_Type','Transmission','Owner']]"
      ],
      "metadata": {
        "id": "5g-jQilAnSwS"
      },
      "execution_count": 48,
      "outputs": []
    },
    {
      "cell_type": "code",
      "source": [
        "X.shape"
      ],
      "metadata": {
        "id": "24miOupGn8Fu",
        "colab": {
          "base_uri": "https://localhost:8080/"
        },
        "outputId": "9f64e8ab-1ae7-4d11-9ae1-388dc193a153"
      },
      "execution_count": 49,
      "outputs": [
        {
          "output_type": "execute_result",
          "data": {
            "text/plain": [
              "(8128, 6)"
            ]
          },
          "metadata": {},
          "execution_count": 49
        }
      ]
    },
    {
      "cell_type": "code",
      "source": [
        "X"
      ],
      "metadata": {
        "id": "_4qF4lQjoISo",
        "colab": {
          "base_uri": "https://localhost:8080/",
          "height": 424
        },
        "outputId": "93625c42-1257-4ec9-df9d-aa3ab25399d2"
      },
      "execution_count": 50,
      "outputs": [
        {
          "output_type": "execute_result",
          "data": {
            "text/plain": [
              "      Year  KM_Driven  Fuel  Seller_Type  Transmission  Owner\n",
              "0     2014     145500     1            0             0      0\n",
              "1     2014     120000     1            0             0      1\n",
              "2     2006     140000     0            0             0      2\n",
              "3     2010     127000     1            0             0      0\n",
              "4     2007     120000     0            0             0      0\n",
              "...    ...        ...   ...          ...           ...    ...\n",
              "8123  2013     110000     0            0             0      0\n",
              "8124  2007     119000     1            0             0      3\n",
              "8125  2009     120000     1            0             0      0\n",
              "8126  2013      25000     1            0             0      0\n",
              "8127  2013      25000     1            0             0      0\n",
              "\n",
              "[8128 rows x 6 columns]"
            ],
            "text/html": [
              "\n",
              "  <div id=\"df-98e2cf4c-7e33-432d-9628-11b958273326\">\n",
              "    <div class=\"colab-df-container\">\n",
              "      <div>\n",
              "<style scoped>\n",
              "    .dataframe tbody tr th:only-of-type {\n",
              "        vertical-align: middle;\n",
              "    }\n",
              "\n",
              "    .dataframe tbody tr th {\n",
              "        vertical-align: top;\n",
              "    }\n",
              "\n",
              "    .dataframe thead th {\n",
              "        text-align: right;\n",
              "    }\n",
              "</style>\n",
              "<table border=\"1\" class=\"dataframe\">\n",
              "  <thead>\n",
              "    <tr style=\"text-align: right;\">\n",
              "      <th></th>\n",
              "      <th>Year</th>\n",
              "      <th>KM_Driven</th>\n",
              "      <th>Fuel</th>\n",
              "      <th>Seller_Type</th>\n",
              "      <th>Transmission</th>\n",
              "      <th>Owner</th>\n",
              "    </tr>\n",
              "  </thead>\n",
              "  <tbody>\n",
              "    <tr>\n",
              "      <th>0</th>\n",
              "      <td>2014</td>\n",
              "      <td>145500</td>\n",
              "      <td>1</td>\n",
              "      <td>0</td>\n",
              "      <td>0</td>\n",
              "      <td>0</td>\n",
              "    </tr>\n",
              "    <tr>\n",
              "      <th>1</th>\n",
              "      <td>2014</td>\n",
              "      <td>120000</td>\n",
              "      <td>1</td>\n",
              "      <td>0</td>\n",
              "      <td>0</td>\n",
              "      <td>1</td>\n",
              "    </tr>\n",
              "    <tr>\n",
              "      <th>2</th>\n",
              "      <td>2006</td>\n",
              "      <td>140000</td>\n",
              "      <td>0</td>\n",
              "      <td>0</td>\n",
              "      <td>0</td>\n",
              "      <td>2</td>\n",
              "    </tr>\n",
              "    <tr>\n",
              "      <th>3</th>\n",
              "      <td>2010</td>\n",
              "      <td>127000</td>\n",
              "      <td>1</td>\n",
              "      <td>0</td>\n",
              "      <td>0</td>\n",
              "      <td>0</td>\n",
              "    </tr>\n",
              "    <tr>\n",
              "      <th>4</th>\n",
              "      <td>2007</td>\n",
              "      <td>120000</td>\n",
              "      <td>0</td>\n",
              "      <td>0</td>\n",
              "      <td>0</td>\n",
              "      <td>0</td>\n",
              "    </tr>\n",
              "    <tr>\n",
              "      <th>...</th>\n",
              "      <td>...</td>\n",
              "      <td>...</td>\n",
              "      <td>...</td>\n",
              "      <td>...</td>\n",
              "      <td>...</td>\n",
              "      <td>...</td>\n",
              "    </tr>\n",
              "    <tr>\n",
              "      <th>8123</th>\n",
              "      <td>2013</td>\n",
              "      <td>110000</td>\n",
              "      <td>0</td>\n",
              "      <td>0</td>\n",
              "      <td>0</td>\n",
              "      <td>0</td>\n",
              "    </tr>\n",
              "    <tr>\n",
              "      <th>8124</th>\n",
              "      <td>2007</td>\n",
              "      <td>119000</td>\n",
              "      <td>1</td>\n",
              "      <td>0</td>\n",
              "      <td>0</td>\n",
              "      <td>3</td>\n",
              "    </tr>\n",
              "    <tr>\n",
              "      <th>8125</th>\n",
              "      <td>2009</td>\n",
              "      <td>120000</td>\n",
              "      <td>1</td>\n",
              "      <td>0</td>\n",
              "      <td>0</td>\n",
              "      <td>0</td>\n",
              "    </tr>\n",
              "    <tr>\n",
              "      <th>8126</th>\n",
              "      <td>2013</td>\n",
              "      <td>25000</td>\n",
              "      <td>1</td>\n",
              "      <td>0</td>\n",
              "      <td>0</td>\n",
              "      <td>0</td>\n",
              "    </tr>\n",
              "    <tr>\n",
              "      <th>8127</th>\n",
              "      <td>2013</td>\n",
              "      <td>25000</td>\n",
              "      <td>1</td>\n",
              "      <td>0</td>\n",
              "      <td>0</td>\n",
              "      <td>0</td>\n",
              "    </tr>\n",
              "  </tbody>\n",
              "</table>\n",
              "<p>8128 rows × 6 columns</p>\n",
              "</div>\n",
              "      <button class=\"colab-df-convert\" onclick=\"convertToInteractive('df-98e2cf4c-7e33-432d-9628-11b958273326')\"\n",
              "              title=\"Convert this dataframe to an interactive table.\"\n",
              "              style=\"display:none;\">\n",
              "        \n",
              "  <svg xmlns=\"http://www.w3.org/2000/svg\" height=\"24px\"viewBox=\"0 0 24 24\"\n",
              "       width=\"24px\">\n",
              "    <path d=\"M0 0h24v24H0V0z\" fill=\"none\"/>\n",
              "    <path d=\"M18.56 5.44l.94 2.06.94-2.06 2.06-.94-2.06-.94-.94-2.06-.94 2.06-2.06.94zm-11 1L8.5 8.5l.94-2.06 2.06-.94-2.06-.94L8.5 2.5l-.94 2.06-2.06.94zm10 10l.94 2.06.94-2.06 2.06-.94-2.06-.94-.94-2.06-.94 2.06-2.06.94z\"/><path d=\"M17.41 7.96l-1.37-1.37c-.4-.4-.92-.59-1.43-.59-.52 0-1.04.2-1.43.59L10.3 9.45l-7.72 7.72c-.78.78-.78 2.05 0 2.83L4 21.41c.39.39.9.59 1.41.59.51 0 1.02-.2 1.41-.59l7.78-7.78 2.81-2.81c.8-.78.8-2.07 0-2.86zM5.41 20L4 18.59l7.72-7.72 1.47 1.35L5.41 20z\"/>\n",
              "  </svg>\n",
              "      </button>\n",
              "      \n",
              "  <style>\n",
              "    .colab-df-container {\n",
              "      display:flex;\n",
              "      flex-wrap:wrap;\n",
              "      gap: 12px;\n",
              "    }\n",
              "\n",
              "    .colab-df-convert {\n",
              "      background-color: #E8F0FE;\n",
              "      border: none;\n",
              "      border-radius: 50%;\n",
              "      cursor: pointer;\n",
              "      display: none;\n",
              "      fill: #1967D2;\n",
              "      height: 32px;\n",
              "      padding: 0 0 0 0;\n",
              "      width: 32px;\n",
              "    }\n",
              "\n",
              "    .colab-df-convert:hover {\n",
              "      background-color: #E2EBFA;\n",
              "      box-shadow: 0px 1px 2px rgba(60, 64, 67, 0.3), 0px 1px 3px 1px rgba(60, 64, 67, 0.15);\n",
              "      fill: #174EA6;\n",
              "    }\n",
              "\n",
              "    [theme=dark] .colab-df-convert {\n",
              "      background-color: #3B4455;\n",
              "      fill: #D2E3FC;\n",
              "    }\n",
              "\n",
              "    [theme=dark] .colab-df-convert:hover {\n",
              "      background-color: #434B5C;\n",
              "      box-shadow: 0px 1px 3px 1px rgba(0, 0, 0, 0.15);\n",
              "      filter: drop-shadow(0px 1px 2px rgba(0, 0, 0, 0.3));\n",
              "      fill: #FFFFFF;\n",
              "    }\n",
              "  </style>\n",
              "\n",
              "      <script>\n",
              "        const buttonEl =\n",
              "          document.querySelector('#df-98e2cf4c-7e33-432d-9628-11b958273326 button.colab-df-convert');\n",
              "        buttonEl.style.display =\n",
              "          google.colab.kernel.accessAllowed ? 'block' : 'none';\n",
              "\n",
              "        async function convertToInteractive(key) {\n",
              "          const element = document.querySelector('#df-98e2cf4c-7e33-432d-9628-11b958273326');\n",
              "          const dataTable =\n",
              "            await google.colab.kernel.invokeFunction('convertToInteractive',\n",
              "                                                     [key], {});\n",
              "          if (!dataTable) return;\n",
              "\n",
              "          const docLinkHtml = 'Like what you see? Visit the ' +\n",
              "            '<a target=\"_blank\" href=https://colab.research.google.com/notebooks/data_table.ipynb>data table notebook</a>'\n",
              "            + ' to learn more about interactive tables.';\n",
              "          element.innerHTML = '';\n",
              "          dataTable['output_type'] = 'display_data';\n",
              "          await google.colab.output.renderOutput(dataTable, element);\n",
              "          const docLink = document.createElement('div');\n",
              "          docLink.innerHTML = docLinkHtml;\n",
              "          element.appendChild(docLink);\n",
              "        }\n",
              "      </script>\n",
              "    </div>\n",
              "  </div>\n",
              "  "
            ]
          },
          "metadata": {},
          "execution_count": 50
        }
      ]
    },
    {
      "cell_type": "code",
      "source": [
        "df.corr()"
      ],
      "metadata": {
        "id": "3IIer5LKveTX",
        "outputId": "c7faf383-b3e9-4ec2-92f8-ad7f25fee18d",
        "colab": {
          "base_uri": "https://localhost:8080/",
          "height": 300
        }
      },
      "execution_count": 51,
      "outputs": [
        {
          "output_type": "execute_result",
          "data": {
            "text/plain": [
              "                   Year      Fuel  Transmission     Seats  KM_Driven  \\\n",
              "Year           1.000000  0.025683      0.244707 -0.009144  -0.418006   \n",
              "Fuel           0.025683  1.000000     -0.043885  0.309251   0.255895   \n",
              "Transmission   0.244707 -0.043885      1.000000 -0.072821  -0.201229   \n",
              "Seats         -0.009144  0.309251     -0.072821  1.000000   0.227336   \n",
              "KM_Driven     -0.418006  0.255895     -0.201229  0.227336   1.000000   \n",
              "Owner         -0.504905  0.023179     -0.141456  0.027641   0.282745   \n",
              "Seller_Type    0.234741 -0.065334      0.355598 -0.075394  -0.194966   \n",
              "Selling_Price  0.414092  0.166845      0.588845  0.041358  -0.225534   \n",
              "\n",
              "                  Owner  Seller_Type  Selling_Price  \n",
              "Year          -0.504905     0.234741       0.414092  \n",
              "Fuel           0.023179    -0.065334       0.166845  \n",
              "Transmission  -0.141456     0.355598       0.588845  \n",
              "Seats          0.027641    -0.075394       0.041358  \n",
              "KM_Driven      0.282745    -0.194966      -0.225534  \n",
              "Owner          1.000000    -0.200111      -0.221915  \n",
              "Seller_Type   -0.200111     1.000000       0.323047  \n",
              "Selling_Price -0.221915     0.323047       1.000000  "
            ],
            "text/html": [
              "\n",
              "  <div id=\"df-4f8d9368-b5e5-4d14-b0bc-c086260384f5\">\n",
              "    <div class=\"colab-df-container\">\n",
              "      <div>\n",
              "<style scoped>\n",
              "    .dataframe tbody tr th:only-of-type {\n",
              "        vertical-align: middle;\n",
              "    }\n",
              "\n",
              "    .dataframe tbody tr th {\n",
              "        vertical-align: top;\n",
              "    }\n",
              "\n",
              "    .dataframe thead th {\n",
              "        text-align: right;\n",
              "    }\n",
              "</style>\n",
              "<table border=\"1\" class=\"dataframe\">\n",
              "  <thead>\n",
              "    <tr style=\"text-align: right;\">\n",
              "      <th></th>\n",
              "      <th>Year</th>\n",
              "      <th>Fuel</th>\n",
              "      <th>Transmission</th>\n",
              "      <th>Seats</th>\n",
              "      <th>KM_Driven</th>\n",
              "      <th>Owner</th>\n",
              "      <th>Seller_Type</th>\n",
              "      <th>Selling_Price</th>\n",
              "    </tr>\n",
              "  </thead>\n",
              "  <tbody>\n",
              "    <tr>\n",
              "      <th>Year</th>\n",
              "      <td>1.000000</td>\n",
              "      <td>0.025683</td>\n",
              "      <td>0.244707</td>\n",
              "      <td>-0.009144</td>\n",
              "      <td>-0.418006</td>\n",
              "      <td>-0.504905</td>\n",
              "      <td>0.234741</td>\n",
              "      <td>0.414092</td>\n",
              "    </tr>\n",
              "    <tr>\n",
              "      <th>Fuel</th>\n",
              "      <td>0.025683</td>\n",
              "      <td>1.000000</td>\n",
              "      <td>-0.043885</td>\n",
              "      <td>0.309251</td>\n",
              "      <td>0.255895</td>\n",
              "      <td>0.023179</td>\n",
              "      <td>-0.065334</td>\n",
              "      <td>0.166845</td>\n",
              "    </tr>\n",
              "    <tr>\n",
              "      <th>Transmission</th>\n",
              "      <td>0.244707</td>\n",
              "      <td>-0.043885</td>\n",
              "      <td>1.000000</td>\n",
              "      <td>-0.072821</td>\n",
              "      <td>-0.201229</td>\n",
              "      <td>-0.141456</td>\n",
              "      <td>0.355598</td>\n",
              "      <td>0.588845</td>\n",
              "    </tr>\n",
              "    <tr>\n",
              "      <th>Seats</th>\n",
              "      <td>-0.009144</td>\n",
              "      <td>0.309251</td>\n",
              "      <td>-0.072821</td>\n",
              "      <td>1.000000</td>\n",
              "      <td>0.227336</td>\n",
              "      <td>0.027641</td>\n",
              "      <td>-0.075394</td>\n",
              "      <td>0.041358</td>\n",
              "    </tr>\n",
              "    <tr>\n",
              "      <th>KM_Driven</th>\n",
              "      <td>-0.418006</td>\n",
              "      <td>0.255895</td>\n",
              "      <td>-0.201229</td>\n",
              "      <td>0.227336</td>\n",
              "      <td>1.000000</td>\n",
              "      <td>0.282745</td>\n",
              "      <td>-0.194966</td>\n",
              "      <td>-0.225534</td>\n",
              "    </tr>\n",
              "    <tr>\n",
              "      <th>Owner</th>\n",
              "      <td>-0.504905</td>\n",
              "      <td>0.023179</td>\n",
              "      <td>-0.141456</td>\n",
              "      <td>0.027641</td>\n",
              "      <td>0.282745</td>\n",
              "      <td>1.000000</td>\n",
              "      <td>-0.200111</td>\n",
              "      <td>-0.221915</td>\n",
              "    </tr>\n",
              "    <tr>\n",
              "      <th>Seller_Type</th>\n",
              "      <td>0.234741</td>\n",
              "      <td>-0.065334</td>\n",
              "      <td>0.355598</td>\n",
              "      <td>-0.075394</td>\n",
              "      <td>-0.194966</td>\n",
              "      <td>-0.200111</td>\n",
              "      <td>1.000000</td>\n",
              "      <td>0.323047</td>\n",
              "    </tr>\n",
              "    <tr>\n",
              "      <th>Selling_Price</th>\n",
              "      <td>0.414092</td>\n",
              "      <td>0.166845</td>\n",
              "      <td>0.588845</td>\n",
              "      <td>0.041358</td>\n",
              "      <td>-0.225534</td>\n",
              "      <td>-0.221915</td>\n",
              "      <td>0.323047</td>\n",
              "      <td>1.000000</td>\n",
              "    </tr>\n",
              "  </tbody>\n",
              "</table>\n",
              "</div>\n",
              "      <button class=\"colab-df-convert\" onclick=\"convertToInteractive('df-4f8d9368-b5e5-4d14-b0bc-c086260384f5')\"\n",
              "              title=\"Convert this dataframe to an interactive table.\"\n",
              "              style=\"display:none;\">\n",
              "        \n",
              "  <svg xmlns=\"http://www.w3.org/2000/svg\" height=\"24px\"viewBox=\"0 0 24 24\"\n",
              "       width=\"24px\">\n",
              "    <path d=\"M0 0h24v24H0V0z\" fill=\"none\"/>\n",
              "    <path d=\"M18.56 5.44l.94 2.06.94-2.06 2.06-.94-2.06-.94-.94-2.06-.94 2.06-2.06.94zm-11 1L8.5 8.5l.94-2.06 2.06-.94-2.06-.94L8.5 2.5l-.94 2.06-2.06.94zm10 10l.94 2.06.94-2.06 2.06-.94-2.06-.94-.94-2.06-.94 2.06-2.06.94z\"/><path d=\"M17.41 7.96l-1.37-1.37c-.4-.4-.92-.59-1.43-.59-.52 0-1.04.2-1.43.59L10.3 9.45l-7.72 7.72c-.78.78-.78 2.05 0 2.83L4 21.41c.39.39.9.59 1.41.59.51 0 1.02-.2 1.41-.59l7.78-7.78 2.81-2.81c.8-.78.8-2.07 0-2.86zM5.41 20L4 18.59l7.72-7.72 1.47 1.35L5.41 20z\"/>\n",
              "  </svg>\n",
              "      </button>\n",
              "      \n",
              "  <style>\n",
              "    .colab-df-container {\n",
              "      display:flex;\n",
              "      flex-wrap:wrap;\n",
              "      gap: 12px;\n",
              "    }\n",
              "\n",
              "    .colab-df-convert {\n",
              "      background-color: #E8F0FE;\n",
              "      border: none;\n",
              "      border-radius: 50%;\n",
              "      cursor: pointer;\n",
              "      display: none;\n",
              "      fill: #1967D2;\n",
              "      height: 32px;\n",
              "      padding: 0 0 0 0;\n",
              "      width: 32px;\n",
              "    }\n",
              "\n",
              "    .colab-df-convert:hover {\n",
              "      background-color: #E2EBFA;\n",
              "      box-shadow: 0px 1px 2px rgba(60, 64, 67, 0.3), 0px 1px 3px 1px rgba(60, 64, 67, 0.15);\n",
              "      fill: #174EA6;\n",
              "    }\n",
              "\n",
              "    [theme=dark] .colab-df-convert {\n",
              "      background-color: #3B4455;\n",
              "      fill: #D2E3FC;\n",
              "    }\n",
              "\n",
              "    [theme=dark] .colab-df-convert:hover {\n",
              "      background-color: #434B5C;\n",
              "      box-shadow: 0px 1px 3px 1px rgba(0, 0, 0, 0.15);\n",
              "      filter: drop-shadow(0px 1px 2px rgba(0, 0, 0, 0.3));\n",
              "      fill: #FFFFFF;\n",
              "    }\n",
              "  </style>\n",
              "\n",
              "      <script>\n",
              "        const buttonEl =\n",
              "          document.querySelector('#df-4f8d9368-b5e5-4d14-b0bc-c086260384f5 button.colab-df-convert');\n",
              "        buttonEl.style.display =\n",
              "          google.colab.kernel.accessAllowed ? 'block' : 'none';\n",
              "\n",
              "        async function convertToInteractive(key) {\n",
              "          const element = document.querySelector('#df-4f8d9368-b5e5-4d14-b0bc-c086260384f5');\n",
              "          const dataTable =\n",
              "            await google.colab.kernel.invokeFunction('convertToInteractive',\n",
              "                                                     [key], {});\n",
              "          if (!dataTable) return;\n",
              "\n",
              "          const docLinkHtml = 'Like what you see? Visit the ' +\n",
              "            '<a target=\"_blank\" href=https://colab.research.google.com/notebooks/data_table.ipynb>data table notebook</a>'\n",
              "            + ' to learn more about interactive tables.';\n",
              "          element.innerHTML = '';\n",
              "          dataTable['output_type'] = 'display_data';\n",
              "          await google.colab.output.renderOutput(dataTable, element);\n",
              "          const docLink = document.createElement('div');\n",
              "          docLink.innerHTML = docLinkHtml;\n",
              "          element.appendChild(docLink);\n",
              "        }\n",
              "      </script>\n",
              "    </div>\n",
              "  </div>\n",
              "  "
            ]
          },
          "metadata": {},
          "execution_count": 51
        }
      ]
    },
    {
      "cell_type": "code",
      "source": [
        "from sklearn.model_selection import train_test_split"
      ],
      "metadata": {
        "id": "kSk6CUZboI1n"
      },
      "execution_count": 52,
      "outputs": []
    },
    {
      "cell_type": "code",
      "source": [
        "X_train,X_test,y_train,y_test=train_test_split(X,y,test_size=0.3,random_state=True)"
      ],
      "metadata": {
        "id": "Py6N14JwoqO-"
      },
      "execution_count": 53,
      "outputs": []
    },
    {
      "cell_type": "code",
      "source": [
        "X_train.shape,X_test.shape,y_train.shape,y_test.shape"
      ],
      "metadata": {
        "id": "D5BXBpMwp2QZ",
        "colab": {
          "base_uri": "https://localhost:8080/"
        },
        "outputId": "00c998a9-6aa9-47fd-c7d0-fbe7eefba566"
      },
      "execution_count": 54,
      "outputs": [
        {
          "output_type": "execute_result",
          "data": {
            "text/plain": [
              "((5689, 6), (2439, 6), (5689,), (2439,))"
            ]
          },
          "metadata": {},
          "execution_count": 54
        }
      ]
    },
    {
      "cell_type": "code",
      "source": [
        "from sklearn import linear_model\n",
        "from sklearn.metrics import mean_squared_error,mean_absolute_error \n",
        "reg_all=linear_model.LinearRegression() \n",
        "reg_all.fit(X_train,y_train) \n",
        "y_pred=reg_all.predict(X_test) \n",
        "Rsquare=reg_all.score(X_test,y_test) \n",
        "print(\"Rsquare: %f\" %(Rsquare)) \n",
        "coeff_df = pd.DataFrame(X_train.columns) \n",
        "coeff_df.columns = ['Variable'] \n",
        "coeff_df[\"Coeff\"] = pd.Series(reg_all.coef_) \n",
        "coeff_df.sort_values(by='Coeff', ascending=True) \n",
        "print(coeff_df) \n",
        "print(\"Intercept: %f\" %(reg_all.intercept_)) \n",
        "mae = mean_absolute_error(y_test,y_pred) \n",
        "print(\"mae: %f\" %(mae)) \n",
        "rmse=np.sqrt(mean_squared_error(y_test,y_pred)) \n",
        "print(\"rmse: %f\" %(rmse))"
      ],
      "metadata": {
        "colab": {
          "base_uri": "https://localhost:8080/"
        },
        "id": "zP3SbkQvWUV3",
        "outputId": "56fec096-d706-4da3-967e-76096960d3ea"
      },
      "execution_count": 55,
      "outputs": [
        {
          "output_type": "stream",
          "name": "stdout",
          "text": [
            "Rsquare: 0.460977\n",
            "       Variable         Coeff\n",
            "0          Year  4.787361e+04\n",
            "1     KM_Driven -1.197733e+00\n",
            "2          Fuel  3.222181e+05\n",
            "3   Seller_Type  1.577622e+05\n",
            "4  Transmission  1.198119e+06\n",
            "5         Owner  1.061544e+04\n",
            "Intercept: -96060290.920406\n",
            "mae: 301447.730170\n",
            "rmse: 559930.842210\n"
          ]
        }
      ]
    },
    {
      "cell_type": "code",
      "source": [
        "from sklearn.linear_model import LinearRegression\n",
        "lr=LinearRegression()\n",
        "lr.fit(X_train,y_train)"
      ],
      "metadata": {
        "id": "SAN38fffrVSL",
        "colab": {
          "base_uri": "https://localhost:8080/"
        },
        "outputId": "71434458-f568-4080-a248-36ab6ab7b08e"
      },
      "execution_count": 56,
      "outputs": [
        {
          "output_type": "execute_result",
          "data": {
            "text/plain": [
              "LinearRegression()"
            ]
          },
          "metadata": {},
          "execution_count": 56
        }
      ]
    },
    {
      "cell_type": "code",
      "source": [
        "y_pred=lr.predict(X_test)"
      ],
      "metadata": {
        "id": "RppFH5whriAM"
      },
      "execution_count": 57,
      "outputs": []
    },
    {
      "cell_type": "code",
      "source": [
        "y_pred.shape\n",
        "y_pred"
      ],
      "metadata": {
        "id": "NLj0optsvSzO",
        "colab": {
          "base_uri": "https://localhost:8080/"
        },
        "outputId": "0c00627d-2a86-4e8c-9a8f-4322eea0ac2f"
      },
      "execution_count": 58,
      "outputs": [
        {
          "output_type": "execute_result",
          "data": {
            "text/plain": [
              "array([152690.45489973, 769094.39262494, 846875.61171044, ...,\n",
              "       404759.94701426, 639482.33191384, 828945.32941739])"
            ]
          },
          "metadata": {},
          "execution_count": 58
        }
      ]
    },
    {
      "cell_type": "code",
      "source": [
        "import matplotlib.pyplot as plt\n",
        "plt.scatter(y_test,y_pred)\n",
        "plt.xlabel(\"Actual price\")\n",
        "plt.ylabel(\"Predicted price\")\n",
        "plt.title(\"Actual price vs Predicted price\")\n",
        "plt.show"
      ],
      "metadata": {
        "id": "x5a_Se9DwSk8",
        "colab": {
          "base_uri": "https://localhost:8080/",
          "height": 312
        },
        "outputId": "840d71b0-a51f-4506-8030-b8610ef9b85b"
      },
      "execution_count": 59,
      "outputs": [
        {
          "output_type": "execute_result",
          "data": {
            "text/plain": [
              "<function matplotlib.pyplot.show(*args, **kw)>"
            ]
          },
          "metadata": {},
          "execution_count": 59
        },
        {
          "output_type": "display_data",
          "data": {
            "text/plain": [
              "<Figure size 432x288 with 1 Axes>"
            ],
            "image/png": "[encoded data removed]"
          },
          "metadata": {
            "needs_background": "light"
          }
        }
      ]
    },
    {
      "cell_type": "code",
      "source": [
        "#LASSO\n",
        "import numpy as np\n",
        "from sklearn.metrics import mean_squared_error,r2_score \n",
        "from sklearn.linear_model import Lasso\n",
        "model_lasso= Lasso(alpha=0.01)\n",
        "model_lasso.fit(X,y) \n",
        "pred_train_lasso= model_lasso.predict(X_test)\n",
        "\n",
        "print(mean_squared_error(y_test,pred_train_lasso))"
      ],
      "metadata": {
        "id": "a2hFxXWOxLwS",
        "colab": {
          "base_uri": "https://localhost:8080/"
        },
        "outputId": "7a453fe8-e713-4241-ccc5-3c7c76fe4dc0"
      },
      "execution_count": 60,
      "outputs": [
        {
          "output_type": "stream",
          "name": "stdout",
          "text": [
            "311569402040.81384\n"
          ]
        }
      ]
    },
    {
      "cell_type": "code",
      "source": [
        "#RIDGE\n",
        "from sklearn.linear_model import Ridge \n",
        "rr= Ridge(alpha=0.01)\n",
        "rr.fit(X_train, y_train) \n",
        "pred_train_rr= rr.predict(X_train)\n",
        "print(np.sqrt(mean_squared_error(y_train,pred_train_rr)))\n",
        "print(r2_score(y_train, pred_train_rr))"
      ],
      "metadata": {
        "id": "UGO1aTNgziJe",
        "colab": {
          "base_uri": "https://localhost:8080/"
        },
        "outputId": "c3c98c03-40cb-44f8-9caa-955ecc0b6d95"
      },
      "execution_count": 61,
      "outputs": [
        {
          "output_type": "stream",
          "name": "stdout",
          "text": [
            "600101.2998186436\n",
            "0.4696873303093795\n"
          ]
        }
      ]
    },
    {
      "cell_type": "code",
      "source": [
        "#Linear\n",
        "from sklearn.linear_model import LinearRegression\n",
        "model = LinearRegression()\n",
        "model.fit(X, y)\n",
        "model = LinearRegression().fit(X, y)\n",
        "r_sq = model.score(X, y)\n",
        "print(f\"coefficient of determination: {r_sq}\")\n",
        "\n",
        "print(f\"intercept: {model.intercept_}\")\n",
        "\n",
        "print(f\"coefficients: {model.coef_}\")"
      ],
      "metadata": {
        "id": "C9epgUiO6zZ5",
        "colab": {
          "base_uri": "https://localhost:8080/"
        },
        "outputId": "708ee46c-4490-4d1d-d41e-915dede7e259"
      },
      "execution_count": 62,
      "outputs": [
        {
          "output_type": "stream",
          "name": "stdout",
          "text": [
            "coefficient of determination: 0.46802066238968\n",
            "intercept: -96744520.95313473\n",
            "coefficients: [ 4.82083676e+04 -8.45183110e-01  3.06135068e+05  1.60496453e+05\n",
            "  1.18707390e+06  6.69120297e+02]\n"
          ]
        }
      ]
    },
    {
      "cell_type": "code",
      "source": [
        "from sklearn import linear_model\n",
        "from sklearn.metrics import mean_squared_error,mean_absolute_error\n",
        "reg_all=linear_model.LinearRegression()\n",
        "reg_all.fit(X_train,y_train)\n",
        "y_pred=reg_all.predict(X_test)\n",
        "Rsquare=reg_all.score(X_test,y_test)\n",
        "print(\"Rsquare: %f\" %(Rsquare))\n",
        "print(\"Intercept: %f\" %(reg_all.intercept_))\n",
        "mse=mean_squared_error(y_test,y_pred)\n",
        "print(\"mse: %f\" %(mse))\n",
        "mae = mean_absolute_error(y_test,y_pred)\n",
        "print(\"mae: %f\" %(mae))\n",
        "rmse=np.sqrt(mean_squared_error(y_test,y_pred))\n",
        "print(\"rmse: %f\" %(rmse))"
      ],
      "metadata": {
        "id": "kaC9Kx-o667T",
        "colab": {
          "base_uri": "https://localhost:8080/"
        },
        "outputId": "dd1e4432-dfa5-4c3f-fc60-77a8418ad541"
      },
      "execution_count": 63,
      "outputs": [
        {
          "output_type": "stream",
          "name": "stdout",
          "text": [
            "Rsquare: 0.460977\n",
            "Intercept: -96060290.920406\n",
            "mse: 313522548057.966614\n",
            "mae: 301447.730170\n",
            "rmse: 559930.842210\n"
          ]
        }
      ]
    }
  ]
}